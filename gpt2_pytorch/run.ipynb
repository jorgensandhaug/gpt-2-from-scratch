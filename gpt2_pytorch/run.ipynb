{
 "cells": [
  {
   "cell_type": "code",
   "execution_count": 2,
   "metadata": {},
   "outputs": [
    {
     "name": "stdout",
     "output_type": "stream",
     "text": [
      "\n",
      "Iteration 0\n",
      "Generated Text:\n",
      " Once upon a time, a long time ago in a land far away, there lived a king. of is for in's to. between., that of that, of of... to or,, and,, when. by.\n",
      "\n",
      "Iteration 1\n",
      "Generated Text:\n",
      " Once upon a time, a long time ago in a land far away, there lived a king to of that, is in to is, to and was at of.. that,�, in of of. of and or., of-\n",
      "\n",
      "Iteration 2\n",
      "Generated Text:\n",
      " Once upon a time, a long time ago in a land far away, there lived a king, of,. in of, to or of,,. of, of-... that or of that and for of of of.'s\n",
      "\n",
      "Iteration 3\n",
      "Generated Text:\n",
      " Once upon a time, a long time ago in a land far away, there lived a king in, of. of of.., from's of in,. for of., because. to of and, area, for. with.\n",
      "\n",
      "Iteration 4\n",
      "Generated Text:\n",
      " Once upon a time, a long time ago in a land far away, there lived a king one of for and of,? that, or to was that., of of of,? to. at, of. year as period where.\n",
      "\n",
      "Iteration 5\n",
      "Generated Text:\n",
      " Once upon a time, a long time ago in a land far away, there lived a king,, that of: that that and that of\n",
      " to,. in where of in�,. of of in and,. of.. or\n",
      "\n",
      "Iteration 6\n",
      "Generated Text:\n",
      " Once upon a time, a long time ago in a land far away, there lived a king which with. which of number,. that but. of or, and for or after to of. or to... of, of. of\n",
      "\n",
      "Iteration 7\n",
      "Generated Text:\n",
      " Once upon a time, a long time ago in a land far away, there lived a king or of time or, of of. and,: for to. to, that of that,... between of?. in from of system\n",
      "\n",
      "Iteration 8\n",
      "Generated Text:\n",
      " Once upon a time, a long time ago in a land far away, there lived a king that of, in... of of,, and and that for of that of, that. in,: at of of of, a,\n",
      "\n",
      "Iteration 9\n",
      "Generated Text:\n",
      " Once upon a time, a long time ago in a land far away, there lived a king but but of. from. of, in at which or and of of., in in of is,. from, for in. on,,\n"
     ]
    }
   ],
   "source": [
    "from model import GPT2Model, GPT2Config\n",
    "import torch\n",
    "from transformers import GPT2Tokenizer\n",
    "\n",
    "# Load your tokenizer and model\n",
    "tokenizer = GPT2Tokenizer.from_pretrained(\"gpt2\")\n",
    "\n",
    "config = GPT2Config(\n",
    "    vocab_size=50257,\n",
    "    hidden_size=384,\n",
    "    num_layers=6,\n",
    "    num_heads=6,\n",
    "    max_position_embeddings=256\n",
    ")\n",
    "\n",
    "# model = GPT2Model.randomly_initialize_model(config)\n",
    "model = GPT2Model(config)\n",
    "model_path = 'gpt2.pth'\n",
    "model.load_state_dict(torch.load(model_path))\n",
    "model.eval()\n",
    "\n",
    "# Function to generate text\n",
    "def generate_text(prompt, max_length=50):\n",
    "    input_ids = tokenizer.encode(prompt, return_tensors='pt') # Shape: (1, 1, 19)\n",
    "    # Reshape to (1, 19)\n",
    "    output_ids = model.generate(input_ids, max_length=max_length)\n",
    "    generated_text = tokenizer.decode(output_ids[0], skip_special_tokens=True)\n",
    "    return generated_text\n",
    "\n",
    "# Example usage\n",
    "if __name__ == \"__main__\":\n",
    "    prompt = \"Once upon a time, a long time ago in a land far away, there lived a king\"\n",
    "    for i in range(10):\n",
    "        print()\n",
    "        print(f\"Iteration {i}\")\n",
    "        generated_text = generate_text(prompt, max_length=50)\n",
    "        print(\"Generated Text:\\n\", generated_text)"
   ]
  }
 ],
 "metadata": {
  "kernelspec": {
   "display_name": "ml",
   "language": "python",
   "name": "python3"
  },
  "language_info": {
   "codemirror_mode": {
    "name": "ipython",
    "version": 3
   },
   "file_extension": ".py",
   "mimetype": "text/x-python",
   "name": "python",
   "nbconvert_exporter": "python",
   "pygments_lexer": "ipython3",
   "version": "3.10.14"
  }
 },
 "nbformat": 4,
 "nbformat_minor": 2
}
